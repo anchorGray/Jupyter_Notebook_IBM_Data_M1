{
    "cells": [
        {
            "metadata": {},
            "cell_type": "markdown",
            "source": "# __My Jupyter Notebook on IBM Watson Studio__"
        },
        {
            "metadata": {},
            "cell_type": "markdown",
            "source": "## __John Gray__<br>\nData Scientist and Software Developer"
        },
        {
            "metadata": {},
            "cell_type": "markdown",
            "source": "_I am interested in data science because I want to be involved in the future of biomedicine._ "
        },
        {
            "metadata": {},
            "cell_type": "markdown",
            "source": "### The following code prints, \"Hello, Data Science World!\". "
        },
        {
            "metadata": {},
            "cell_type": "code",
            "source": "print('Hello, Data Science World!')",
            "execution_count": 1,
            "outputs": [
                {
                    "output_type": "stream",
                    "text": "Hello, Data Science World!\n",
                    "name": "stdout"
                }
            ]
        },
        {
            "metadata": {},
            "cell_type": "markdown",
            "source": "***\n<br>\n<img src= \"https://www.dataquest.io/wp-content/uploads/2019/05/what-is-data-science-1.jpg\">\n\n***\n<br>\n<a href=\"coursera.org\">Coursera</a> <br>\n\n1. Item a\n1. Item b\n1. Item c"
        }
    ],
    "metadata": {
        "kernelspec": {
            "name": "python3",
            "display_name": "Python 3.10",
            "language": "python"
        },
        "language_info": {
            "name": "python",
            "version": "3.10.6",
            "mimetype": "text/x-python",
            "codemirror_mode": {
                "name": "ipython",
                "version": 3
            },
            "pygments_lexer": "ipython3",
            "nbconvert_exporter": "python",
            "file_extension": ".py"
        }
    },
    "nbformat": 4,
    "nbformat_minor": 1
}